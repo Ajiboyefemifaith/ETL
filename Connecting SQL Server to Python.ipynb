{
 "cells": [
  {
   "cell_type": "markdown",
   "id": "4097c51e",
   "metadata": {},
   "source": [
    "### Aim: To create a connection and retrieve data between MSSQL and Pyton "
   ]
  },
  {
   "cell_type": "markdown",
   "id": "2743dbcb",
   "metadata": {},
   "source": [
    "To read and save data in a table structure: pandas\n",
    "\n",
    "To connect to SQLServer database: pyodbc\n",
    "\n",
    "To ignore warnings: warnings"
   ]
  },
  {
   "cell_type": "code",
   "execution_count": 13,
   "id": "029dc4ab",
   "metadata": {},
   "outputs": [],
   "source": [
    "import pyodbc\n",
    "import pandas as pd\n",
    "import warnings\n",
    "warnings.filterwarnings(\"ignore\")"
   ]
  },
  {
   "cell_type": "markdown",
   "id": "30a650fc",
   "metadata": {},
   "source": [
    "Define variables holding database credentials and details"
   ]
  },
  {
   "cell_type": "code",
   "execution_count": 2,
   "id": "9af2d517",
   "metadata": {},
   "outputs": [],
   "source": [
    "driver = \"{SQL Server}\"\n",
    "server = \"FAY\"\n",
    "database = \"AdventureWorks2019;\""
   ]
  },
  {
   "cell_type": "markdown",
   "id": "df3d38c6",
   "metadata": {},
   "source": [
    "Use the Connect function from pyodbc to establish a database connection.In the connect function we concatenate the variable to create a connection string"
   ]
  },
  {
   "cell_type": "code",
   "execution_count": 8,
   "id": "1185d816",
   "metadata": {},
   "outputs": [],
   "source": [
    "conn = pyodbc.connect('Driver={SQL Server};'\n",
    "                      'Server=FAY;'\n",
    "                      'Database=AdventureWorks2019;'\n",
    "                      'Trusted_Connection=yes;')"
   ]
  },
  {
   "cell_type": "markdown",
   "id": "4accae03",
   "metadata": {},
   "source": [
    "SQL query to test our connection to the above SQL Server database. "
   ]
  },
  {
   "cell_type": "code",
   "execution_count": 9,
   "id": "d529ce98",
   "metadata": {},
   "outputs": [],
   "source": [
    "sql = \"SELECT * FROM HumanResources.Employee\""
   ]
  },
  {
   "cell_type": "markdown",
   "id": "7065d43f",
   "metadata": {},
   "source": [
    " Use the pandas read SQL query function to query the database.This takes the SQL Query and the database connection that is saved in the variable."
   ]
  },
  {
   "cell_type": "code",
   "execution_count": 14,
   "id": "ec806b0d",
   "metadata": {},
   "outputs": [
    {
     "data": {
      "text/html": [
       "<div>\n",
       "<style scoped>\n",
       "    .dataframe tbody tr th:only-of-type {\n",
       "        vertical-align: middle;\n",
       "    }\n",
       "\n",
       "    .dataframe tbody tr th {\n",
       "        vertical-align: top;\n",
       "    }\n",
       "\n",
       "    .dataframe thead th {\n",
       "        text-align: right;\n",
       "    }\n",
       "</style>\n",
       "<table border=\"1\" class=\"dataframe\">\n",
       "  <thead>\n",
       "    <tr style=\"text-align: right;\">\n",
       "      <th></th>\n",
       "      <th>BusinessEntityID</th>\n",
       "      <th>NationalIDNumber</th>\n",
       "      <th>LoginID</th>\n",
       "      <th>OrganizationNode</th>\n",
       "      <th>OrganizationLevel</th>\n",
       "      <th>JobTitle</th>\n",
       "      <th>BirthDate</th>\n",
       "      <th>MaritalStatus</th>\n",
       "      <th>Gender</th>\n",
       "      <th>HireDate</th>\n",
       "      <th>SalariedFlag</th>\n",
       "      <th>VacationHours</th>\n",
       "      <th>SickLeaveHours</th>\n",
       "      <th>CurrentFlag</th>\n",
       "      <th>rowguid</th>\n",
       "      <th>ModifiedDate</th>\n",
       "    </tr>\n",
       "  </thead>\n",
       "  <tbody>\n",
       "    <tr>\n",
       "      <th>0</th>\n",
       "      <td>1</td>\n",
       "      <td>295847284</td>\n",
       "      <td>adventure-works\\ken0</td>\n",
       "      <td>None</td>\n",
       "      <td>NaN</td>\n",
       "      <td>Chief Executive Officer</td>\n",
       "      <td>1969-01-29</td>\n",
       "      <td>S</td>\n",
       "      <td>M</td>\n",
       "      <td>2009-01-14</td>\n",
       "      <td>True</td>\n",
       "      <td>99</td>\n",
       "      <td>69</td>\n",
       "      <td>True</td>\n",
       "      <td>F01251E5-96A3-448D-981E-0F99D789110D</td>\n",
       "      <td>2014-06-30</td>\n",
       "    </tr>\n",
       "    <tr>\n",
       "      <th>1</th>\n",
       "      <td>2</td>\n",
       "      <td>245797967</td>\n",
       "      <td>adventure-works\\terri0</td>\n",
       "      <td>b'X'</td>\n",
       "      <td>1.0</td>\n",
       "      <td>Vice President of Engineering</td>\n",
       "      <td>1971-08-01</td>\n",
       "      <td>S</td>\n",
       "      <td>F</td>\n",
       "      <td>2008-01-31</td>\n",
       "      <td>True</td>\n",
       "      <td>1</td>\n",
       "      <td>20</td>\n",
       "      <td>True</td>\n",
       "      <td>45E8F437-670D-4409-93CB-F9424A40D6EE</td>\n",
       "      <td>2014-06-30</td>\n",
       "    </tr>\n",
       "    <tr>\n",
       "      <th>2</th>\n",
       "      <td>3</td>\n",
       "      <td>509647174</td>\n",
       "      <td>adventure-works\\roberto0</td>\n",
       "      <td>b'Z\\xc0'</td>\n",
       "      <td>2.0</td>\n",
       "      <td>Engineering Manager</td>\n",
       "      <td>1974-11-12</td>\n",
       "      <td>M</td>\n",
       "      <td>M</td>\n",
       "      <td>2007-11-11</td>\n",
       "      <td>True</td>\n",
       "      <td>2</td>\n",
       "      <td>21</td>\n",
       "      <td>True</td>\n",
       "      <td>9BBBFB2C-EFBB-4217-9AB7-F97689328841</td>\n",
       "      <td>2014-06-30</td>\n",
       "    </tr>\n",
       "    <tr>\n",
       "      <th>3</th>\n",
       "      <td>4</td>\n",
       "      <td>112457891</td>\n",
       "      <td>adventure-works\\rob0</td>\n",
       "      <td>b'Z\\xd6'</td>\n",
       "      <td>3.0</td>\n",
       "      <td>Senior Tool Designer</td>\n",
       "      <td>1974-12-23</td>\n",
       "      <td>S</td>\n",
       "      <td>M</td>\n",
       "      <td>2007-12-05</td>\n",
       "      <td>False</td>\n",
       "      <td>48</td>\n",
       "      <td>80</td>\n",
       "      <td>True</td>\n",
       "      <td>59747955-87B8-443F-8ED4-F8AD3AFDF3A9</td>\n",
       "      <td>2014-06-30</td>\n",
       "    </tr>\n",
       "    <tr>\n",
       "      <th>4</th>\n",
       "      <td>5</td>\n",
       "      <td>695256908</td>\n",
       "      <td>adventure-works\\gail0</td>\n",
       "      <td>b'Z\\xda'</td>\n",
       "      <td>3.0</td>\n",
       "      <td>Design Engineer</td>\n",
       "      <td>1952-09-27</td>\n",
       "      <td>M</td>\n",
       "      <td>F</td>\n",
       "      <td>2008-01-06</td>\n",
       "      <td>True</td>\n",
       "      <td>5</td>\n",
       "      <td>22</td>\n",
       "      <td>True</td>\n",
       "      <td>EC84AE09-F9B8-4A15-B4A9-6CCBAB919B08</td>\n",
       "      <td>2014-06-30</td>\n",
       "    </tr>\n",
       "  </tbody>\n",
       "</table>\n",
       "</div>"
      ],
      "text/plain": [
       "   BusinessEntityID NationalIDNumber                   LoginID  \\\n",
       "0                 1        295847284      adventure-works\\ken0   \n",
       "1                 2        245797967    adventure-works\\terri0   \n",
       "2                 3        509647174  adventure-works\\roberto0   \n",
       "3                 4        112457891      adventure-works\\rob0   \n",
       "4                 5        695256908     adventure-works\\gail0   \n",
       "\n",
       "  OrganizationNode  OrganizationLevel                       JobTitle  \\\n",
       "0             None                NaN        Chief Executive Officer   \n",
       "1             b'X'                1.0  Vice President of Engineering   \n",
       "2         b'Z\\xc0'                2.0            Engineering Manager   \n",
       "3         b'Z\\xd6'                3.0           Senior Tool Designer   \n",
       "4         b'Z\\xda'                3.0                Design Engineer   \n",
       "\n",
       "    BirthDate MaritalStatus Gender    HireDate  SalariedFlag  VacationHours  \\\n",
       "0  1969-01-29             S      M  2009-01-14          True             99   \n",
       "1  1971-08-01             S      F  2008-01-31          True              1   \n",
       "2  1974-11-12             M      M  2007-11-11          True              2   \n",
       "3  1974-12-23             S      M  2007-12-05         False             48   \n",
       "4  1952-09-27             M      F  2008-01-06          True              5   \n",
       "\n",
       "   SickLeaveHours  CurrentFlag                               rowguid  \\\n",
       "0              69         True  F01251E5-96A3-448D-981E-0F99D789110D   \n",
       "1              20         True  45E8F437-670D-4409-93CB-F9424A40D6EE   \n",
       "2              21         True  9BBBFB2C-EFBB-4217-9AB7-F97689328841   \n",
       "3              80         True  59747955-87B8-443F-8ED4-F8AD3AFDF3A9   \n",
       "4              22         True  EC84AE09-F9B8-4A15-B4A9-6CCBAB919B08   \n",
       "\n",
       "  ModifiedDate  \n",
       "0   2014-06-30  \n",
       "1   2014-06-30  \n",
       "2   2014-06-30  \n",
       "3   2014-06-30  \n",
       "4   2014-06-30  "
      ]
     },
     "execution_count": 14,
     "metadata": {},
     "output_type": "execute_result"
    }
   ],
   "source": [
    "data = pd.read_sql_query(sql, conn)\n",
    "data.head()"
   ]
  },
  {
   "cell_type": "code",
   "execution_count": null,
   "id": "3b0cbb02",
   "metadata": {},
   "outputs": [],
   "source": []
  }
 ],
 "metadata": {
  "kernelspec": {
   "display_name": "Python 3 (ipykernel)",
   "language": "python",
   "name": "python3"
  },
  "language_info": {
   "codemirror_mode": {
    "name": "ipython",
    "version": 3
   },
   "file_extension": ".py",
   "mimetype": "text/x-python",
   "name": "python",
   "nbconvert_exporter": "python",
   "pygments_lexer": "ipython3",
   "version": "3.9.12"
  }
 },
 "nbformat": 4,
 "nbformat_minor": 5
}
